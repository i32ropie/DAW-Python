{
 "cells": [
  {
   "cell_type": "markdown",
   "metadata": {
    "slideshow": {
     "slide_type": "-"
    }
   },
   "source": [
    "# Variables y asignaciones en Python\n",
    "\n",
    "En ocasiones deseamos que el ordenador recuerde ciertos valores para usarlos más adelante. Para ello usamos variables y asignaciones.\n",
    "\n",
    "Formato: *variable* = *expresión*\n",
    "\n",
    "A tener en cuenta:\n",
    "\n",
    "* Las asignaciones son *mudas*.\n",
    "* Una variable debe ser inicializada.\n",
    "* Comparar NO es asignar.\n",
    "* Una asignación NO es una ecuación.\n",
    "* Un identificador de variable no puede coincicidir con una palabra reservada."
   ]
  },
  {
   "cell_type": "code",
   "execution_count": 2,
   "metadata": {},
   "outputs": [
    {
     "ename": "NameError",
     "evalue": "name 'PI' is not defined",
     "output_type": "error",
     "traceback": [
      "\u001b[0;31m---------------------------------------------------------------------------\u001b[0m",
      "\u001b[0;31mNameError\u001b[0m                                 Traceback (most recent call last)",
      "\u001b[0;32m/tmp/ipykernel_35238/2190397573.py\u001b[0m in \u001b[0;36m<module>\u001b[0;34m\u001b[0m\n\u001b[0;32m----> 1\u001b[0;31m \u001b[0mprint\u001b[0m\u001b[0;34m(\u001b[0m\u001b[0;34m\"Valor de PI es\"\u001b[0m\u001b[0;34m,\u001b[0m \u001b[0mPI\u001b[0m\u001b[0;34m)\u001b[0m\u001b[0;34m\u001b[0m\u001b[0;34m\u001b[0m\u001b[0m\n\u001b[0m",
      "\u001b[0;31mNameError\u001b[0m: name 'PI' is not defined"
     ]
    }
   ],
   "source": [
    "print(\"Valor de PI es\", PI)"
   ]
  },
  {
   "cell_type": "markdown",
   "metadata": {},
   "source": [
    "¿Por qué falla?"
   ]
  },
  {
   "cell_type": "code",
   "execution_count": null,
   "metadata": {},
   "outputs": [],
   "source": [
    "# Este programa calcula la longitud y área de una circunferencia.\n",
    "\n",
    "PI = 3.14159\n",
    "radio = 5\n",
    "\n",
    "# Cálculos\n",
    "# --------\n",
    "# La fórmula para calcular la longitud de una circunferencia es 2*PI*radio.\n",
    "# La fórmula para calcular el área de una circunferencia es PI*radio²\n",
    "\n",
    "longitud = 2 * PI * radio \n",
    "area = PI * radio * radio\n",
    "\n",
    "# Salida\n",
    "\n",
    "print(\"Longitud de la circunferencia:\", longitud)\n",
    "print(\"Área de la circunferencia....:\", area)"
   ]
  },
  {
   "cell_type": "markdown",
   "metadata": {},
   "source": [
    "Podemos pedir el *radio* al usuario y usar el operador de *exponenciación*.\n",
    "\n",
    "Lo vamos a ver paso a paso."
   ]
  },
  {
   "cell_type": "code",
   "execution_count": 2,
   "metadata": {},
   "outputs": [],
   "source": [
    "# Este programa calcula la longitud y área de una circunferencia.\n",
    "\n",
    "# Constantes\n",
    "PI = 3.14159"
   ]
  },
  {
   "cell_type": "code",
   "execution_count": 3,
   "metadata": {},
   "outputs": [
    {
     "name": "stdout",
     "output_type": "stream",
     "text": [
      "Dame el radio de la circunferencia 6.8\n"
     ]
    }
   ],
   "source": [
    "# Pedimos datos\n",
    "radio = input(\"Dame el radio de la circunferencia \")"
   ]
  },
  {
   "cell_type": "markdown",
   "metadata": {},
   "source": [
    "Hacemos los cálculos..."
   ]
  },
  {
   "cell_type": "code",
   "execution_count": 4,
   "metadata": {},
   "outputs": [
    {
     "ename": "TypeError",
     "evalue": "can't multiply sequence by non-int of type 'float'",
     "output_type": "error",
     "traceback": [
      "\u001b[0;31m---------------------------------------------------------------------------\u001b[0m",
      "\u001b[0;31mTypeError\u001b[0m                                 Traceback (most recent call last)",
      "\u001b[0;32m<ipython-input-4-433dae512898>\u001b[0m in \u001b[0;36m<module>\u001b[0;34m\u001b[0m\n\u001b[1;32m      4\u001b[0m \u001b[0;31m# La fórmula para calcular el área de una circunferencia es PI*radio²\u001b[0m\u001b[0;34m\u001b[0m\u001b[0;34m\u001b[0m\u001b[0;34m\u001b[0m\u001b[0m\n\u001b[1;32m      5\u001b[0m \u001b[0;34m\u001b[0m\u001b[0m\n\u001b[0;32m----> 6\u001b[0;31m \u001b[0mlongitud\u001b[0m \u001b[0;34m=\u001b[0m \u001b[0;36m2\u001b[0m \u001b[0;34m*\u001b[0m \u001b[0mPI\u001b[0m \u001b[0;34m*\u001b[0m \u001b[0mradio\u001b[0m\u001b[0;34m\u001b[0m\u001b[0;34m\u001b[0m\u001b[0m\n\u001b[0m\u001b[1;32m      7\u001b[0m \u001b[0marea\u001b[0m \u001b[0;34m=\u001b[0m \u001b[0mPI\u001b[0m \u001b[0;34m*\u001b[0m \u001b[0mradio\u001b[0m\u001b[0;34m**\u001b[0m\u001b[0;36m2\u001b[0m\u001b[0;34m\u001b[0m\u001b[0;34m\u001b[0m\u001b[0m\n\u001b[1;32m      8\u001b[0m \u001b[0;34m\u001b[0m\u001b[0m\n",
      "\u001b[0;31mTypeError\u001b[0m: can't multiply sequence by non-int of type 'float'"
     ]
    }
   ],
   "source": [
    "# Cálculos\n",
    "# --------\n",
    "# La fórmula para calcular la longitud de una circunferencia es 2*PI*radio.\n",
    "# La fórmula para calcular el área de una circunferencia es PI*radio²\n",
    "\n",
    "longitud = 2 * PI * radio \n",
    "area = PI * radio**2\n",
    "\n",
    "# Salida\n",
    "\n",
    "print(\"Longitud de la circunferencia:\", longitud)\n",
    "print(\"Área de la circunferencia....:\", area)"
   ]
  },
  {
   "cell_type": "markdown",
   "metadata": {},
   "source": [
    "**¡Y falla! ¿por qué?**"
   ]
  },
  {
   "cell_type": "markdown",
   "metadata": {},
   "source": [
    "## Una asignación NO es una ecuación"
   ]
  },
  {
   "cell_type": "code",
   "execution_count": null,
   "metadata": {},
   "outputs": [],
   "source": [
    "n = 10\n",
    "print(\"Valor de n:\", n)"
   ]
  },
  {
   "cell_type": "markdown",
   "metadata": {},
   "source": [
    "En una ecuación esto no tiene sentido, en una asignación sí..."
   ]
  },
  {
   "cell_type": "code",
   "execution_count": null,
   "metadata": {},
   "outputs": [],
   "source": [
    "n = n+1\n",
    "print(\"Valor de n después de hacer 'n = n+1':\", n)"
   ]
  },
  {
   "cell_type": "markdown",
   "metadata": {},
   "source": [
    "En Python podemos usar el operador += para incrementar el valor de una variable"
   ]
  },
  {
   "cell_type": "code",
   "execution_count": null,
   "metadata": {},
   "outputs": [],
   "source": [
    "n += 1\n",
    "print(\"Valor de n después de hacer 'n += 1':\", n)\n",
    "\n",
    "n += 5\n",
    "print(\"Valor de n después de hacer 'n += 5':\", n)"
   ]
  },
  {
   "cell_type": "markdown",
   "metadata": {},
   "source": [
    "Y también podemos usar -=, *= ó /="
   ]
  },
  {
   "cell_type": "code",
   "execution_count": null,
   "metadata": {},
   "outputs": [],
   "source": [
    "n -= 5\n",
    "print(\"Valor de n después de hacer 'n -= 5':\", n)\n",
    "\n",
    "n *= 2\n",
    "print(\"Valor de n después de hacer 'n *= 2':\", n)"
   ]
  },
  {
   "cell_type": "code",
   "execution_count": null,
   "metadata": {},
   "outputs": [],
   "source": []
  }
 ],
 "metadata": {
  "kernelspec": {
   "display_name": "Python 3 (ipykernel)",
   "language": "python",
   "name": "python3"
  },
  "language_info": {
   "codemirror_mode": {
    "name": "ipython",
    "version": 3
   },
   "file_extension": ".py",
   "mimetype": "text/x-python",
   "name": "python",
   "nbconvert_exporter": "python",
   "pygments_lexer": "ipython3",
   "version": "3.8.8"
  }
 },
 "nbformat": 4,
 "nbformat_minor": 2
}
